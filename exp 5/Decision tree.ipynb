{
 "cells": [
  {
   "cell_type": "code",
   "execution_count": null,
   "id": "80749ac7",
   "metadata": {},
   "outputs": [],
   "source": [
    "# ! pip install ucimlrepo"
   ]
  },
  {
   "cell_type": "markdown",
   "id": "31ed7221",
   "metadata": {},
   "source": [
    "## Dataset\n",
    "\n",
    "We will use the **Adult Income Dataset** from UCI.\n",
    "\n",
    "- **Dataset Link:** [Adult Dataset (UCI Machine Learning Repository)](https://archive.ics.uci.edu/ml/datasets/adult)\n",
    "- **Task:** Binary Classification — predict whether a person earns **≤ 50K** or **> 50K** per year.\n",
    "- **Features:**  \n",
    "  Mix of **categorical** and **numeric** features:\n",
    "  - *Categorical:* `workclass`, `education`, `occupation`, `marital-status`, etc.\n",
    "  - *Numeric:* `age`, `hours-per-week`, `capital-gain`, `capital-loss`, etc.\n",
    "- **Target Variable:**  \n",
    "  `income` — indicates whether the person earns **≤ 50K** or **> 50K**.\n",
    "\n"
   ]
  },
  {
   "cell_type": "code",
   "execution_count": null,
   "id": "560c95e1",
   "metadata": {},
   "outputs": [],
   "source": [
    "from ucimlrepo import fetch_ucirepo"
   ]
  },
  {
   "cell_type": "code",
   "execution_count": 3,
   "id": "bf3c70bb",
   "metadata": {},
   "outputs": [],
   "source": [
    "adult = fetch_ucirepo(id=2)\n",
    "X = adult.data.features # features (pandas DataFrame)\n",
    "y = adult.data.targets # target (pandas DataFrame)"
   ]
  },
  {
   "cell_type": "code",
   "execution_count": 4,
   "id": "87ad1c6f",
   "metadata": {},
   "outputs": [
    {
     "name": "stdout",
     "output_type": "stream",
     "text": [
      "{'uci_id': 2, 'name': 'Adult', 'repository_url': 'https://archive.ics.uci.edu/dataset/2/adult', 'data_url': 'https://archive.ics.uci.edu/static/public/2/data.csv', 'abstract': 'Predict whether annual income of an individual exceeds $50K/yr based on census data. Also known as \"Census Income\" dataset. ', 'area': 'Social Science', 'tasks': ['Classification'], 'characteristics': ['Multivariate'], 'num_instances': 48842, 'num_features': 14, 'feature_types': ['Categorical', 'Integer'], 'demographics': ['Age', 'Income', 'Education Level', 'Other', 'Race', 'Sex'], 'target_col': ['income'], 'index_col': None, 'has_missing_values': 'yes', 'missing_values_symbol': 'NaN', 'year_of_dataset_creation': 1996, 'last_updated': 'Tue Sep 24 2024', 'dataset_doi': '10.24432/C5XW20', 'creators': ['Barry Becker', 'Ronny Kohavi'], 'intro_paper': None, 'additional_info': {'summary': \"Extraction was done by Barry Becker from the 1994 Census database.  A set of reasonably clean records was extracted using the following conditions: ((AAGE>16) && (AGI>100) && (AFNLWGT>1)&& (HRSWK>0))\\n\\nPrediction task is to determine whether a person's income is over $50,000 a year.\\n\", 'purpose': None, 'funded_by': None, 'instances_represent': None, 'recommended_data_splits': None, 'sensitive_data': None, 'preprocessing_description': None, 'variable_info': 'Listing of attributes:\\r\\n\\r\\n>50K, <=50K.\\r\\n\\r\\nage: continuous.\\r\\nworkclass: Private, Self-emp-not-inc, Self-emp-inc, Federal-gov, Local-gov, State-gov, Without-pay, Never-worked.\\r\\nfnlwgt: continuous.\\r\\neducation: Bachelors, Some-college, 11th, HS-grad, Prof-school, Assoc-acdm, Assoc-voc, 9th, 7th-8th, 12th, Masters, 1st-4th, 10th, Doctorate, 5th-6th, Preschool.\\r\\neducation-num: continuous.\\r\\nmarital-status: Married-civ-spouse, Divorced, Never-married, Separated, Widowed, Married-spouse-absent, Married-AF-spouse.\\r\\noccupation: Tech-support, Craft-repair, Other-service, Sales, Exec-managerial, Prof-specialty, Handlers-cleaners, Machine-op-inspct, Adm-clerical, Farming-fishing, Transport-moving, Priv-house-serv, Protective-serv, Armed-Forces.\\r\\nrelationship: Wife, Own-child, Husband, Not-in-family, Other-relative, Unmarried.\\r\\nrace: White, Asian-Pac-Islander, Amer-Indian-Eskimo, Other, Black.\\r\\nsex: Female, Male.\\r\\ncapital-gain: continuous.\\r\\ncapital-loss: continuous.\\r\\nhours-per-week: continuous.\\r\\nnative-country: United-States, Cambodia, England, Puerto-Rico, Canada, Germany, Outlying-US(Guam-USVI-etc), India, Japan, Greece, South, China, Cuba, Iran, Honduras, Philippines, Italy, Poland, Jamaica, Vietnam, Mexico, Portugal, Ireland, France, Dominican-Republic, Laos, Ecuador, Taiwan, Haiti, Columbia, Hungary, Guatemala, Nicaragua, Scotland, Thailand, Yugoslavia, El-Salvador, Trinadad&Tobago, Peru, Hong, Holand-Netherlands.', 'citation': None}}\n",
      "              name     role         type      demographic  \\\n",
      "0              age  Feature      Integer              Age   \n",
      "1        workclass  Feature  Categorical           Income   \n",
      "2           fnlwgt  Feature      Integer             None   \n",
      "3        education  Feature  Categorical  Education Level   \n",
      "4    education-num  Feature      Integer  Education Level   \n",
      "5   marital-status  Feature  Categorical            Other   \n",
      "6       occupation  Feature  Categorical            Other   \n",
      "7     relationship  Feature  Categorical            Other   \n",
      "8             race  Feature  Categorical             Race   \n",
      "9              sex  Feature       Binary              Sex   \n",
      "10    capital-gain  Feature      Integer             None   \n",
      "11    capital-loss  Feature      Integer             None   \n",
      "12  hours-per-week  Feature      Integer             None   \n",
      "13  native-country  Feature  Categorical            Other   \n",
      "14          income   Target       Binary           Income   \n",
      "\n",
      "                                          description units missing_values  \n",
      "0                                                 N/A  None             no  \n",
      "1   Private, Self-emp-not-inc, Self-emp-inc, Feder...  None            yes  \n",
      "2                                                None  None             no  \n",
      "3    Bachelors, Some-college, 11th, HS-grad, Prof-...  None             no  \n",
      "4                                                None  None             no  \n",
      "5   Married-civ-spouse, Divorced, Never-married, S...  None             no  \n",
      "6   Tech-support, Craft-repair, Other-service, Sal...  None            yes  \n",
      "7   Wife, Own-child, Husband, Not-in-family, Other...  None             no  \n",
      "8   White, Asian-Pac-Islander, Amer-Indian-Eskimo,...  None             no  \n",
      "9                                       Female, Male.  None             no  \n",
      "10                                               None  None             no  \n",
      "11                                               None  None             no  \n",
      "12                                               None  None             no  \n",
      "13  United-States, Cambodia, England, Puerto-Rico,...  None            yes  \n",
      "14                                       >50K, <=50K.  None             no  \n"
     ]
    }
   ],
   "source": [
    "# metadata \n",
    "print(adult.metadata) \n",
    "  \n",
    "# variable information \n",
    "print(adult.variables) "
   ]
  },
  {
   "cell_type": "markdown",
   "id": "ecde592b",
   "metadata": {},
   "source": [
    "## 🧹 1. Data Preparation\n",
    "\n",
    "- Handle missing values (drop or impute).  \n",
    "- Encode categorical variables into numeric values (e.g., Label Encoding).  \n",
    "- Split the dataset as follows:\n",
    "  - **80% Training**\n",
    "  - **20% Validation**\n",
    "  - **20% Test**\n",
    "\n",
    "> Use the validation set to tune tree depth and pruning parameters.\n"
   ]
  },
  {
   "cell_type": "code",
   "execution_count": null,
   "id": "6fe457fc",
   "metadata": {},
   "outputs": [],
   "source": []
  },
  {
   "cell_type": "code",
   "execution_count": null,
   "id": "2dbbf38b",
   "metadata": {},
   "outputs": [],
   "source": []
  },
  {
   "cell_type": "markdown",
   "id": "7097e527",
   "metadata": {},
   "source": [
    "## 🌳 2. Build a Decision Tree from Scratch\n",
    "\n",
    "Implement the tree recursively:\n",
    "\n",
    "1. **At each split:**\n",
    "   - Compute both **Gini Impurity** and **Entropy**.\n",
    "   - For each feature and possible split, calculate the **weighted impurity** of child nodes.\n",
    "   - Choose the split with the **highest information gain** (lowest impurity).\n",
    "\n",
    "2. **Continue splitting until:**\n",
    "   - All samples in a node have the same label, **OR**\n",
    "   - The **maximum depth** is reached, **OR**\n",
    "   - There is **no further improvement** in impurity.\n",
    "\n",
    "3. **Implement a function** to predict labels for new samples.\n"
   ]
  },
  {
   "cell_type": "markdown",
   "id": "2111fe8f",
   "metadata": {},
   "source": []
  },
  {
   "cell_type": "markdown",
   "id": "17f2fa96",
   "metadata": {},
   "source": [
    "## ✂️ 3. Pre-Pruning (Restricting Tree Growth)\n",
    "\n",
    "While building the tree, apply pre-pruning techniques:\n",
    "\n",
    "- Limit **maximum depth** (try depths = 2, 4, 6, and unlimited).  \n",
    "- Require at least a **minimum number of samples** (e.g., 5) to split.  \n",
    "- Optionally, require a **minimum impurity decrease** to split further.\n"
   ]
  },
  {
   "cell_type": "markdown",
   "id": "e84a9732",
   "metadata": {},
   "source": [
    "## 🪚 4. Post-Pruning (Reduced Error Pruning)\n",
    "\n",
    "Steps for reduced error pruning:\n",
    "\n",
    "1. First, **grow a full tree**.  \n",
    "2. For each internal node:\n",
    "   - Replace it with a **leaf node** (majority class).\n",
    "   - Evaluate **validation accuracy**.\n",
    "3. If accuracy **does not decrease**, keep the pruning.  \n",
    "4. Repeat until no further improvement is observed.\n"
   ]
  },
  {
   "cell_type": "markdown",
   "id": "9856d24a",
   "metadata": {},
   "source": [
    "## 🧾 5. Evaluation\n",
    "\n",
    "- Train using the **training set**.\n",
    "- Tune depth and pruning using the **validation set**.\n",
    "- Report final results on the **test set**.\n",
    "\n",
    "### Metrics to Report\n",
    "- **Accuracy**\n",
    "- **Precision**\n",
    "- **Recall**\n",
    "- **F1-score**\n",
    "- **Confusion Matrix**\n",
    "\n",
    "> Compare your implementation with `sklearn.tree.DecisionTreeClassifier`.\n"
   ]
  },
  {
   "cell_type": "markdown",
   "id": "2d9acf73",
   "metadata": {},
   "source": [
    "## 🔬 6. Experiments to Perform\n",
    "\n",
    "Perform and report the following experiments:\n",
    "\n",
    "1. **Compare Gini vs. Entropy.**  \n",
    "2. **Compare different depths** (2, 4, 6, unlimited).  \n",
    "3. **Show the effect of pruning** (pre-pruned vs. post-pruned vs. full tree).  \n",
    "4. **Identify the most important features** — the ones used near the top of the tree.\n"
   ]
  },
  {
   "cell_type": "markdown",
   "id": "0ff1caad",
   "metadata": {},
   "source": []
  }
 ],
 "metadata": {
  "kernelspec": {
   "display_name": "ml_lab",
   "language": "python",
   "name": "python3"
  },
  "language_info": {
   "codemirror_mode": {
    "name": "ipython",
    "version": 3
   },
   "file_extension": ".py",
   "mimetype": "text/x-python",
   "name": "python",
   "nbconvert_exporter": "python",
   "pygments_lexer": "ipython3",
   "version": "3.13.7"
  }
 },
 "nbformat": 4,
 "nbformat_minor": 5
}
